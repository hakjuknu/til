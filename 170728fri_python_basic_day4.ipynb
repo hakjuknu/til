{
 "cells": [
  {
   "cell_type": "code",
   "execution_count": 1,
   "metadata": {},
   "outputs": [
    {
     "data": {
      "text/plain": [
       "10"
      ]
     },
     "execution_count": 1,
     "metadata": {},
     "output_type": "execute_result"
    }
   ],
   "source": [
    "#함수란?\n",
    "#아주 멋진 awe-sum함수 만들기\n",
    "def awe_sum(a,b): #콜론의 의미: 이 줄이 끝나는 것이 아니라 다음줄에 indentation준후 계속 이어진다는 뜻\n",
    "    result = 0\n",
    "    result = a + b #여기까지만 하면 아웃풋이 없는 상태이므로 다음줄에 return 타이핑요.\n",
    "    return result\n",
    "\n",
    "awe_sum(4,6)\n",
    "    "
   ]
  },
  {
   "cell_type": "code",
   "execution_count": 3,
   "metadata": {},
   "outputs": [
    {
     "data": {
      "text/plain": [
       "'hello'"
      ]
     },
     "execution_count": 3,
     "metadata": {},
     "output_type": "execute_result"
    }
   ],
   "source": [
    "#입력(input)은 없는데 출력(return)이 되는 함수\n",
    "def print_hello():\n",
    "    return \"hello\"\n",
    "print_hello()"
   ]
  },
  {
   "cell_type": "code",
   "execution_count": 5,
   "metadata": {},
   "outputs": [
    {
     "name": "stdout",
     "output_type": "stream",
     "text": [
      "hi, this is fastcampuswithout return. \n"
     ]
    }
   ],
   "source": [
    "#입력은 있는데 출력이 없는 함수\n",
    "def func_wo_return(a):\n",
    "    print(\"hi, this is \" + str(a) + \"without return. \") #print함수를 실행시킨것일뿐 \n",
    "    #따로 출력값이 저장되거나 남지 않는것. process일뿐.\n",
    "    \n",
    "func_wo_return(\"fastcampus\")"
   ]
  },
  {
   "cell_type": "code",
   "execution_count": 6,
   "metadata": {},
   "outputs": [
    {
     "data": {
      "text/plain": [
       "(23, 123)"
      ]
     },
     "execution_count": 6,
     "metadata": {},
     "output_type": "execute_result"
    }
   ],
   "source": [
    "#function with multiple return 즉 출력이 여러개인 함수\n",
    "def mul_return(a):\n",
    "    b = 0\n",
    "    b = a + 100\n",
    "    return a, b\n",
    "\n",
    "mul_return(23) #출력은 튜플로 됨을 주목."
   ]
  },
  {
   "cell_type": "code",
   "execution_count": 15,
   "metadata": {},
   "outputs": [
    {
     "name": "stdout",
     "output_type": "stream",
     "text": [
      "valid id: fastcampus\n"
     ]
    }
   ],
   "source": [
    "#return skill\n",
    "def id_check(id):\n",
    "    if id== \"admin\":\n",
    "        print(\"invalid id: admin\")\n",
    "        return #함수를 끝내고 싶은 지점에 return을 써줘야 종료됨.?? \n",
    "    else:\n",
    "        print(\"valid id:\", id)\n",
    "\n",
    "id_check(\"fastcampus\")"
   ]
  },
  {
   "cell_type": "code",
   "execution_count": 21,
   "metadata": {},
   "outputs": [
    {
     "name": "stdout",
     "output_type": "stream",
     "text": [
      "Hi,  Ulgoon\n",
      "But, you are a Fool. \n"
     ]
    }
   ],
   "source": [
    "#parameter with initialize\n",
    "def say_hello(name=\"Fool\", nick=True):#=을 붙여서 초기값(기본값)을 부여. \n",
    "    #기본값을 부여하는것이 좋음. 왜냐하면 사용자가 이상한 것을 입력할수 있으므로 대비해야함. \n",
    "    print(\"Hi, \", name)\n",
    "    if nick==True:\n",
    "        print(\"But, you are a Fool. \")\n",
    "    else:\n",
    "        print(\"Oh, you are not a Fool.\")\n",
    "say_hello(\"Ulgoon\")"
   ]
  },
  {
   "cell_type": "code",
   "execution_count": 22,
   "metadata": {},
   "outputs": [
    {
     "data": {
      "text/plain": [
       "5"
      ]
     },
     "execution_count": 22,
     "metadata": {},
     "output_type": "execute_result"
    }
   ],
   "source": [
    "??#arguments: 리스트로 값이 저장됨\n",
    "\n",
    "??#keyword argumenhts: 딕셔너리로 값이 저장됨. asterisk*는 parameters를 \n",
    "#여려개 입력가능하게 해줌.\n",
    "#둘 다 변화가능한 인자를  맨 뒤에 두어야함. \n",
    "def mul_sum(*nums):\n",
    "    result=0 #변수쓸때 항상 0으로 초기화하는 습관이 좋음\n",
    "    for num in nums: #nums에 있는 숫자를 하나 하나 가져와서 num에 넣어라.\n",
    "        result= result + num \n",
    "    return result\n",
    "\n",
    "mul_sum(2,3)"
   ]
  },
  {
   "cell_type": "code",
   "execution_count": 23,
   "metadata": {},
   "outputs": [
    {
     "name": "stdout",
     "output_type": "stream",
     "text": [
      "{'a': 10, 'b': 'google'}\n"
     ]
    }
   ],
   "source": [
    "#keyword arguments: **로 시작. 딕셔너리로 저장\n",
    "##url자동화 시킬때 필요. \n",
    "##\n",
    "def show_kwargs(**kwargs): \n",
    "    print(str(kwargs))\n",
    "    \n",
    "show_kwargs(a=10, b=\"google\")"
   ]
  },
  {
   "cell_type": "code",
   "execution_count": 32,
   "metadata": {},
   "outputs": [
    {
     "data": {
      "text/plain": [
       "'https://www.naver.com:8080?ie=utf-8&query=덩케르크&'"
      ]
     },
     "execution_count": 32,
     "metadata": {},
     "output_type": "execute_result"
    }
   ],
   "source": [
    "#chrome에서 검사를 누르면 \n",
    "##div tag: 섹션태그\n",
    "#도메인:포트 ->:는 도메인과 포트를 구별하는 것임. \n",
    "#내 노트북 포트: 127.0.0.1 = local host \n",
    "##즉 : 핑을 돌려받는 것. 내 노트북안에도 자체서버가 하나 있음. \n",
    "\n",
    "##제목: a tag -> copy XPath만 가져와서 돌리면 됨.\n",
    "def kwargs_url(server, port, **query): #query: 질의어\n",
    "    url= \"https://\" + server + \":\" + port + \"?\" #내 노트북의 local host 는 127.0.0.1 임\n",
    "    for key in query.keys(): #query라는 리스트에서 키만 뽑아서 반복문 돌려라\n",
    "        url = url + key + \"=\" + query[key] + \"&\" #여러 조건을 이용할때 항상 &써야.\n",
    "    return url\n",
    "\n",
    "kwargs_url(\"www.naver.com\", \"8080\", ie=\"utf-8\", query=\"덩케르크\")"
   ]
  },
  {
   "cell_type": "code",
   "execution_count": 43,
   "metadata": {},
   "outputs": [
    {
     "data": {
      "text/plain": [
       "'helloworld'"
      ]
     },
     "execution_count": 43,
     "metadata": {},
     "output_type": "execute_result"
    }
   ],
   "source": [
    "#객체지향프로그램의 개념을 이해하기 위한 전단계개념.\n",
    "#variable outside function\n",
    "a=\"hello\"\n",
    "def glob_test(a):\n",
    "    a += \"world\"\n",
    "    return a\n",
    "\n",
    "glob_test(a)\n"
   ]
  },
  {
   "cell_type": "code",
   "execution_count": 44,
   "metadata": {},
   "outputs": [
    {
     "data": {
      "text/plain": [
       "'helloworld'"
      ]
     },
     "execution_count": 44,
     "metadata": {},
     "output_type": "execute_result"
    }
   ],
   "source": [
    "a=\"hello\"\n",
    "def glob_test(a):\n",
    "    x = a + \"world\"\n",
    "    return x\n",
    "\n",
    "glob_test(a)\n"
   ]
  },
  {
   "cell_type": "code",
   "execution_count": 45,
   "metadata": {
    "collapsed": true
   },
   "outputs": [],
   "source": [
    "#전역변수로 선언하라 globalize \n",
    "##따라서 global 명령어를 되도록 사용하지 말것. \n",
    "###전역변수로 사용하게 되면 함수는 독립성을 \n",
    "####읽게 되어 함수가 외부변수에 의존적이 됨. \n",
    "a=\"hello\"\n",
    "def glob_test(a):\n",
    "    a\n",
    "    "
   ]
  },
  {
   "cell_type": "code",
   "execution_count": 81,
   "metadata": {},
   "outputs": [
    {
     "name": "stdout",
     "output_type": "stream",
     "text": [
      "year?? 100\n",
      "False\n"
     ]
    }
   ],
   "source": [
    "#윤년 Leap year :\n",
    "##4로 나눠 떨어지면 윤년,\n",
    "##100으로 나눠 떨어지면 평년,\n",
    "##400으로 나눠 떨어지면 윤년\n",
    "\n",
    "def is_leap(year):\n",
    "    leap= False\n",
    "    leap=False #평년이 더 많으므로 기본값으로 False\n",
    "    if year % 4 ==0 and (year %100 !=0 or year % 400==0):\n",
    "        leap= True\n",
    "    return leap\n",
    "year=int(input(\"year?? \"))\n",
    "print(is_leap(year))\n",
    "\n",
    "# y = 4\n",
    "# if y % 4 ==0 and (y % 100 !=0 or y % 400 ==0)\n",
    "#     leap=True\n",
    "# return leap\n",
    "\n",
    "\n",
    "#     print(\"윤년\")\n",
    "# # elif: \n",
    "# #     y %  4 ==0 or y % 400==0\n",
    "# #     print(\"윤년\")\n",
    "    "
   ]
  },
  {
   "cell_type": "code",
   "execution_count": null,
   "metadata": {
    "collapsed": true
   },
   "outputs": [],
   "source": [
    "#*****4 또는 400으로 나눠 떨어지는 수 중에서 \n",
    "#다시 100으로 나눠 떨이지는 수만 제외시켜라!??\n",
    "if a % 4 == 0 or a % 400 == 0:\n",
    "    if a % 100 != 0:\n",
    "        # leap = True\n",
    "        print(\"윤년\")"
   ]
  },
  {
   "cell_type": "code",
   "execution_count": 82,
   "metadata": {
    "collapsed": true
   },
   "outputs": [],
   "source": [
    "#에라토스테네스의 체??"
   ]
  },
  {
   "cell_type": "code",
   "execution_count": 88,
   "metadata": {},
   "outputs": [
    {
     "name": "stdout",
     "output_type": "stream",
     "text": [
      "How many times want to curse the beast??: 34\n",
      "Fusion!!!(33 times left)\n",
      "Fusion!!!(32 times left)\n",
      "Fusion!!!(31 times left)\n",
      "Fusion!!!(30 times left)\n",
      "Fusion!!!(29 times left)\n",
      "Fusion!!!(28 times left)\n",
      "Fusion!!!(27 times left)\n",
      "Fusion!!!(26 times left)\n",
      "Fusion!!!(25 times left)\n",
      "Fusion!!!(24 times left)\n",
      "Fusion!!!(23 times left)\n",
      "Fusion!!!(22 times left)\n",
      "Fusion!!!(21 times left)\n",
      "Fusion!!!(20 times left)\n",
      "Fusion!!!(19 times left)\n",
      "Fusion!!!(18 times left)\n",
      "Fusion!!!(17 times left)\n",
      "Fusion!!!(16 times left)\n",
      "Fusion!!!(15 times left)\n",
      "Fusion!!!(14 times left)\n",
      "Fusion!!!(13 times left)\n",
      "Fusion!!!(12 times left)\n",
      "Fusion!!!(11 times left)\n",
      "Fusion!!!(10 times left)\n",
      "Fusion!!!(9 times left)\n",
      "Fusion!!!(8 times left)\n",
      "Fusion!!!(7 times left)\n",
      "Fusion!!!(6 times left)\n",
      "Fusion!!!(5 times left)\n",
      "Fusion!!!(4 times left)\n",
      "Fusion!!!(3 times left)\n",
      "Fusion!!!(2 times left)\n",
      "Fusion!!!(1 times left)\n",
      "Fusion!!!(0 times left)\n",
      "curse complete! \n"
     ]
    }
   ],
   "source": [
    "#재귀호출 Recursive \n",
    "times=int(input(\"How many times want to curse the beast??: \"))\n",
    "def recurse_beast(a):  #함수정의가 맨 위에 있어야 하고 \n",
    "                        #실행되는 부분이 맨 밑에 있어야함. \n",
    "    if a==0:\n",
    "        print(\"curse complete! \")\n",
    "    else:\n",
    "        print(\"Fusion!!!(%d times left)\" % (a -1))\n",
    "        recurse_beast(a-1)\n",
    "recurse_beast(times)\n",
    "#??times, a를 모두 times로 통일해도 되나?"
   ]
  },
  {
   "cell_type": "code",
   "execution_count": 1,
   "metadata": {
    "collapsed": true
   },
   "outputs": [],
   "source": [
    "#File I/O 파일 입출력\n",
    "#양태현선생님: 정통 C 프로그래머, 테크니션\n",
    "# f=open(filename, mode)\n",
    "# f.close()\n",
    "# #mode\n",
    "# ##r 읽기, w 쓰기 a 추가모드\n",
    "#순서: 열고 작업후 닫아라.*****\n",
    "f=open(\"Newfile.txt\",'w') #f일 필요는 없으나 관습.\n",
    "f.close()"
   ]
  },
  {
   "cell_type": "code",
   "execution_count": 5,
   "metadata": {},
   "outputs": [],
   "source": [
    "#\\n: 한줄내려가라.\n",
    "f=open(\"Newfile.txt\", 'a')\n",
    "for i in range(1,11):\n",
    "       text=\"Hello Fastcampus for %2d. \\n\" %i\n",
    "       f.write(text)\n",
    "\n",
    "f.close()"
   ]
  },
  {
   "cell_type": "code",
   "execution_count": 6,
   "metadata": {},
   "outputs": [
    {
     "name": "stdout",
     "output_type": "stream",
     "text": [
      "Hello Fastcampus for  1. \n",
      "\n"
     ]
    }
   ],
   "source": [
    "# 읽기\n",
    "f=open(\"Newfile.txt\", 'r')\n",
    "text=f.readline() #첫줄만 읽어라. \n",
    "print(text)\n",
    "f.close()"
   ]
  },
  {
   "cell_type": "code",
   "execution_count": 7,
   "metadata": {},
   "outputs": [
    {
     "name": "stdout",
     "output_type": "stream",
     "text": [
      "Hello Fastcampus for  1. \n",
      "\n",
      "Hello Fastcampus for  2. \n",
      "\n",
      "Hello Fastcampus for  3. \n",
      "\n",
      "Hello Fastcampus for  4. \n",
      "\n",
      "Hello Fastcampus for  5. \n",
      "\n",
      "Hello Fastcampus for  6. \n",
      "\n",
      "Hello Fastcampus for  7. \n",
      "\n",
      "Hello Fastcampus for  8. \n",
      "\n",
      "Hello Fastcampus for  9. \n",
      "\n",
      "Hello Fastcampus for 10. \n",
      "\n"
     ]
    }
   ],
   "source": [
    "#여러줄 읽는법\n",
    "f=open(\"Newfile.txt\", 'r')\n",
    "while True:\n",
    "    text =f.readline()\n",
    "    if not text:\n",
    "        break\n",
    "    print(text)\n",
    "f.close()"
   ]
  },
  {
   "cell_type": "code",
   "execution_count": 14,
   "metadata": {},
   "outputs": [
    {
     "name": "stdout",
     "output_type": "stream",
     "text": [
      "Hello Fastcampus for  1. \n",
      "\n",
      "Hello Fastcampus for  2. \n",
      "\n",
      "Hello Fastcampus for  3. \n",
      "\n",
      "Hello Fastcampus for  4. \n",
      "\n",
      "Hello Fastcampus for  5. \n",
      "\n",
      "Hello Fastcampus for  6. \n",
      "\n",
      "Hello Fastcampus for  7. \n",
      "\n",
      "Hello Fastcampus for  8. \n",
      "\n",
      "Hello Fastcampus for  9. \n",
      "\n",
      "Hello Fastcampus for 10. \n",
      "\n"
     ]
    }
   ],
   "source": [
    "#for 문 안돌리고 한번에 읽는법\n",
    "f=open('Newfile.txt', 'r')\n",
    "texts=f.readlines()\n",
    "for text in texts:\n",
    "    print(text)\n",
    "f.close()"
   ]
  },
  {
   "cell_type": "code",
   "execution_count": 9,
   "metadata": {},
   "outputs": [
    {
     "ename": "UnsupportedOperation",
     "evalue": "not readable",
     "output_type": "error",
     "traceback": [
      "\u001b[1;31m---------------------------------------------------------------------------\u001b[0m",
      "\u001b[1;31mUnsupportedOperation\u001b[0m                      Traceback (most recent call last)",
      "\u001b[1;32m<ipython-input-9-4a6e87913ef4>\u001b[0m in \u001b[0;36m<module>\u001b[1;34m()\u001b[0m\n\u001b[1;32m----> 1\u001b[1;33m \u001b[0mtexts\u001b[0m\u001b[1;33m=\u001b[0m\u001b[0mf\u001b[0m\u001b[1;33m.\u001b[0m\u001b[0mreadlines\u001b[0m\u001b[1;33m(\u001b[0m\u001b[1;33m)\u001b[0m\u001b[1;33m\u001b[0m\u001b[0m\n\u001b[0m",
      "\u001b[1;31mUnsupportedOperation\u001b[0m: not readable"
     ]
    }
   ],
   "source": [
    "f=open('Newfile.txt', 'r')\n",
    "texts=f.readlines()\n",
    "for text in texts:\n",
    "    print(text)\n",
    "f.close()"
   ]
  },
  {
   "cell_type": "code",
   "execution_count": 19,
   "metadata": {
    "collapsed": true
   },
   "outputs": [],
   "source": [
    "f=open(\"Newfile.txt\", 'a')\n",
    "for i in range(11,20+1):\n",
    "       text=\" Fastcampus for %5d. \\n\" %i\n",
    "       f.write(text)\n",
    "\n",
    "f.close()"
   ]
  },
  {
   "cell_type": "code",
   "execution_count": 21,
   "metadata": {},
   "outputs": [
    {
     "ename": "UnsupportedOperation",
     "evalue": "not writable",
     "output_type": "error",
     "traceback": [
      "\u001b[1;31m---------------------------------------------------------------------------\u001b[0m",
      "\u001b[1;31mUnsupportedOperation\u001b[0m                      Traceback (most recent call last)",
      "\u001b[1;32m<ipython-input-21-102f8c50e432>\u001b[0m in \u001b[0;36m<module>\u001b[1;34m()\u001b[0m\n\u001b[0;32m      1\u001b[0m \u001b[1;31m#f.close()안 쓰고 with as쓰는게 편함\u001b[0m\u001b[1;33m\u001b[0m\u001b[1;33m\u001b[0m\u001b[0m\n\u001b[0;32m      2\u001b[0m \u001b[1;32mwith\u001b[0m \u001b[0mopen\u001b[0m\u001b[1;33m(\u001b[0m\u001b[1;34m\"Newfile.txt\"\u001b[0m\u001b[1;33m,\u001b[0m\u001b[1;34m'r'\u001b[0m\u001b[1;33m)\u001b[0m \u001b[1;32mas\u001b[0m \u001b[0mf\u001b[0m\u001b[1;33m:\u001b[0m\u001b[1;33m\u001b[0m\u001b[0m\n\u001b[1;32m----> 3\u001b[1;33m     \u001b[0mf\u001b[0m\u001b[1;33m.\u001b[0m\u001b[0mwrite\u001b[0m\u001b[1;33m(\u001b[0m\u001b[1;34m\"foo is text dummy\"\u001b[0m\u001b[1;33m)\u001b[0m\u001b[1;33m\u001b[0m\u001b[0m\n\u001b[0m",
      "\u001b[1;31mUnsupportedOperation\u001b[0m: not writable"
     ]
    }
   ],
   "source": [
    "#f.close()안 쓰고 with as쓰는게 편함\n",
    "with open(\"Newfile.txt\",'r') as f:\n",
    "    f.write(\"foo is text dummy\")\n"
   ]
  },
  {
   "cell_type": "code",
   "execution_count": 24,
   "metadata": {},
   "outputs": [
    {
     "name": "stdout",
     "output_type": "stream",
     "text": [
      "Type the number: sksl\n",
      "I said you have to type the number!!!!!\n",
      "invalid literal for int() with base 10: 'sksl'\n"
     ]
    }
   ],
   "source": [
    "#Error handle- ValueError : \n",
    "#try: \n",
    "#    pass: 아무것도 하지 않고 지나가라. 습관적으로 pass붙여라.\n",
    "#except:\n",
    "#   pass\n",
    "###ValueError: 정수형 입력해야 하는 자리에 문자 입력한경우\n",
    "try:\n",
    "    some_input=int(input(\"Type the number: \"))\n",
    "except ValueError as e:\n",
    "    print(\"I said you have to type the number!!!!!\")\n",
    "    print(e)"
   ]
  },
  {
   "cell_type": "code",
   "execution_count": 25,
   "metadata": {},
   "outputs": [
    {
     "name": "stdout",
     "output_type": "stream",
     "text": [
      "[Errno 2] No such file or directory: 'error.txt'\n"
     ]
    }
   ],
   "source": [
    "#사용자와 대화할때만 주로 쓸것.\n",
    "#try: 시도했을대\n",
    "#except: 에러나면 이렇게하고\n",
    "#else: 트라이해서 성공했을때는 이렇게해라\n",
    "#try해서 False즉 실패하면 except이고 True 즉 성공하면 else를 실행.\n",
    "#cf. if 다음의 elif는 분기점 즉 그 다음조건의 \n",
    "##다시 판단하는 것으로 넘어감\n",
    "try:\n",
    "    f=open('error.txt','r')\n",
    "except FileNotFoundError as e:\n",
    "    print(e)\n",
    "else:\n",
    "    text=f.read()\n",
    "    f.close()"
   ]
  },
  {
   "cell_type": "code",
   "execution_count": null,
   "metadata": {
    "collapsed": true
   },
   "outputs": [],
   "source": [
    "#파이썬 학습 추천사이트\n",
    "# "
   ]
  }
 ],
 "metadata": {
  "kernelspec": {
   "display_name": "Python 3",
   "language": "python",
   "name": "python3"
  },
  "language_info": {
   "codemirror_mode": {
    "name": "ipython",
    "version": 3
   },
   "file_extension": ".py",
   "mimetype": "text/x-python",
   "name": "python",
   "nbconvert_exporter": "python",
   "pygments_lexer": "ipython3",
   "version": "3.6.1"
  }
 },
 "nbformat": 4,
 "nbformat_minor": 2
}
