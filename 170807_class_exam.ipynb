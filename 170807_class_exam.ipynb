{
 "cells": [
  {
   "cell_type": "code",
   "execution_count": 21,
   "metadata": {
    "collapsed": true
   },
   "outputs": [],
   "source": [
    "#class : Account\n",
    "#첫문자는 capitalizing할것\n",
    "class Account:\n",
    "    pass"
   ]
  },
  {
   "cell_type": "code",
   "execution_count": 22,
   "metadata": {
    "collapsed": true
   },
   "outputs": [],
   "source": [
    "a=Account() #클래스로부터 생성된 a를 객체라고함. "
   ]
  },
  {
   "cell_type": "code",
   "execution_count": 23,
   "metadata": {},
   "outputs": [
    {
     "data": {
      "text/plain": [
       "<__main__.Account at 0x1126690>"
      ]
     },
     "execution_count": 23,
     "metadata": {},
     "output_type": "execute_result"
    }
   ],
   "source": [
    "a"
   ]
  },
  {
   "cell_type": "code",
   "execution_count": 43,
   "metadata": {
    "collapsed": true
   },
   "outputs": [],
   "source": [
    "#생성자의 역할: 멤버의 초기화\n",
    "#class는 뭔가를 찍어내는 붕어빵틀이다: template\n",
    "class Account:\n",
    "    def __init__(self, name, money):\n",
    "        self.user=name #유저, 잔액이 필요할것같아서.\n",
    "        self.balance =money #잔액이란뜻\n",
    "##instance member: 연관있는 변수란 계좌의 기능을 의미 예)account(계좌)와 관련된 변수 즉 name, balance\n",
    "#소멸자: 주목적은 메모리의 해제지만 파이썬은 자동으로 메모리해제되므로 거의 쓰이지 않음.         \n",
    "    def __del__(self):\n",
    "        pass\n",
    "    #연관있는 함수들\n",
    "    ##instance method: 연관있는 함수들의 모임\n",
    "    def deposit(self, money): #self는 무조건 들어가야함. deposit은 넣으려는돈액수\n",
    "        if money <= 0: #여기서부터는 인터페이스설계임.\n",
    "            return None\n",
    "        else:\n",
    "            self.balance+=money\n",
    "            return self.balance\n",
    "    def withdraw(self, money):\n",
    "        '''\n",
    "        obj.withdraw(money)->bool #object형 함수이고 반환형이 boolean이란뜻\n",
    "        '''\n",
    "        \n",
    "        if money <= self.balance:\n",
    "            self.balance -= money\n",
    "            return True\n",
    "        else:\n",
    "            return False\n",
    "        \n",
    "    #message passing\n",
    "    def transfer(self, other, money):\n",
    "        res= self.withdraw(money)\n",
    "        if res:\n",
    "            #다른객체의 함수를 호출해서 내부정보를 바꾼다. \n",
    "            ##개체간의 통신을 할때는 반드시 상대방의 함수호출을 통해서 한다는 것이 중요. \n",
    "            ###balance바꿀때 바로 member로 접근하면 안된다는뜻. \n",
    "            other.deposit(money)\n",
    "            return True\n",
    "        else:\n",
    "            return False\n",
    "        \n",
    "        \n",
    "    def __str__(self):\n",
    "        return '{}, {}', format(self.user,self.balance)\n",
    "   "
   ]
  },
  {
   "cell_type": "code",
   "execution_count": 44,
   "metadata": {},
   "outputs": [
    {
     "name": "stdout",
     "output_type": "stream",
     "text": [
      "Account object deleted!!\n",
      "Account object deleted!!\n"
     ]
    },
    {
     "ename": "TypeError",
     "evalue": "format() argument 2 must be str, not int",
     "output_type": "error",
     "traceback": [
      "\u001b[1;31m---------------------------------------------------------------------------\u001b[0m",
      "\u001b[1;31mTypeError\u001b[0m                                 Traceback (most recent call last)",
      "\u001b[1;32m<ipython-input-44-d358fb3f9c28>\u001b[0m in \u001b[0;36m<module>\u001b[1;34m()\u001b[0m\n\u001b[0;32m      3\u001b[0m \u001b[0mmy_acnt\u001b[0m\u001b[1;33m=\u001b[0m \u001b[0mAccount\u001b[0m\u001b[1;33m(\u001b[0m\u001b[1;34m'greg'\u001b[0m\u001b[1;33m,\u001b[0m \u001b[1;36m5000\u001b[0m\u001b[1;33m)\u001b[0m \u001b[1;31m#인자를 넣는 방식이므로 함수와 비슷한 모양인데 실행이 됨.\u001b[0m\u001b[1;33m\u001b[0m\u001b[0m\n\u001b[0;32m      4\u001b[0m \u001b[0myour_acnt\u001b[0m\u001b[1;33m=\u001b[0m \u001b[0mAccount\u001b[0m\u001b[1;33m(\u001b[0m\u001b[1;34m'john'\u001b[0m\u001b[1;33m,\u001b[0m \u001b[1;36m1000\u001b[0m\u001b[1;33m)\u001b[0m\u001b[1;33m\u001b[0m\u001b[0m\n\u001b[1;32m----> 5\u001b[1;33m \u001b[0mprint\u001b[0m\u001b[1;33m(\u001b[0m\u001b[0mmy_acnt\u001b[0m\u001b[1;33m)\u001b[0m\u001b[1;33m\u001b[0m\u001b[0m\n\u001b[0m",
      "\u001b[1;32m<ipython-input-43-1b4eefd33625>\u001b[0m in \u001b[0;36m__str__\u001b[1;34m(self)\u001b[0m\n\u001b[0;32m     42\u001b[0m \u001b[1;33m\u001b[0m\u001b[0m\n\u001b[0;32m     43\u001b[0m     \u001b[1;32mdef\u001b[0m \u001b[0m__str__\u001b[0m\u001b[1;33m(\u001b[0m\u001b[0mself\u001b[0m\u001b[1;33m)\u001b[0m\u001b[1;33m:\u001b[0m\u001b[1;33m\u001b[0m\u001b[0m\n\u001b[1;32m---> 44\u001b[1;33m         \u001b[1;32mreturn\u001b[0m \u001b[1;34m'{}, {}'\u001b[0m\u001b[1;33m,\u001b[0m \u001b[0mformat\u001b[0m\u001b[1;33m(\u001b[0m\u001b[0mself\u001b[0m\u001b[1;33m.\u001b[0m\u001b[0muser\u001b[0m\u001b[1;33m,\u001b[0m\u001b[0mself\u001b[0m\u001b[1;33m.\u001b[0m\u001b[0mbalance\u001b[0m\u001b[1;33m)\u001b[0m\u001b[1;33m\u001b[0m\u001b[0m\n\u001b[0m\u001b[0;32m     45\u001b[0m \u001b[1;33m\u001b[0m\u001b[0m\n",
      "\u001b[1;31mTypeError\u001b[0m: format() argument 2 must be str, not int"
     ]
    }
   ],
   "source": [
    "#class는 찍어내는 틀\n",
    "#object는 실제로 존재하는 객체\n",
    "my_acnt= Account('greg', 5000) #인자를 넣는 방식이므로 함수와 비슷한 모양인데 실행이 됨.\n",
    "your_acnt= Account('john', 1000)\n",
    "print(my_acnt)"
   ]
  },
  {
   "cell_type": "code",
   "execution_count": 29,
   "metadata": {},
   "outputs": [
    {
     "ename": "NameError",
     "evalue": "name 'my_acnt' is not defined",
     "output_type": "error",
     "traceback": [
      "\u001b[1;31m---------------------------------------------------------------------------\u001b[0m",
      "\u001b[1;31mNameError\u001b[0m                                 Traceback (most recent call last)",
      "\u001b[1;32m<ipython-input-29-d208788dee2a>\u001b[0m in \u001b[0;36m<module>\u001b[1;34m()\u001b[0m\n\u001b[0;32m      2\u001b[0m \u001b[1;31m#1. object로 method호출\u001b[0m\u001b[1;33m\u001b[0m\u001b[1;33m\u001b[0m\u001b[0m\n\u001b[0;32m      3\u001b[0m \u001b[1;31m##self에는 내부정보로 user: greg, balance: ***을 가지고 있음.\u001b[0m\u001b[1;33m\u001b[0m\u001b[1;33m\u001b[0m\u001b[0m\n\u001b[1;32m----> 4\u001b[1;33m \u001b[0mmy_acnt\u001b[0m\u001b[1;33m.\u001b[0m\u001b[0mdeposit\u001b[0m\u001b[1;33m(\u001b[0m\u001b[1;36m2000\u001b[0m\u001b[1;33m)\u001b[0m\u001b[1;33m\u001b[0m\u001b[0m\n\u001b[0m",
      "\u001b[1;31mNameError\u001b[0m: name 'my_acnt' is not defined"
     ]
    }
   ],
   "source": [
    "#함수호출방법2가지\n",
    "#1. object로 method호출\n",
    "##self에는 내부정보로 user: greg, balance: ***을 가지고 있음. \n",
    "my_acnt.deposit(2000)"
   ]
  },
  {
   "cell_type": "code",
   "execution_count": 30,
   "metadata": {},
   "outputs": [
    {
     "ename": "NameError",
     "evalue": "name 'your_acnt' is not defined",
     "output_type": "error",
     "traceback": [
      "\u001b[1;31m---------------------------------------------------------------------------\u001b[0m",
      "\u001b[1;31mNameError\u001b[0m                                 Traceback (most recent call last)",
      "\u001b[1;32m<ipython-input-30-b6d4b2d7afee>\u001b[0m in \u001b[0;36m<module>\u001b[1;34m()\u001b[0m\n\u001b[1;32m----> 1\u001b[1;33m \u001b[0myour_acnt\u001b[0m\u001b[1;33m.\u001b[0m\u001b[0mdeposit\u001b[0m\u001b[1;33m(\u001b[0m\u001b[1;36m3000\u001b[0m\u001b[1;33m)\u001b[0m\u001b[1;33m\u001b[0m\u001b[0m\n\u001b[0m",
      "\u001b[1;31mNameError\u001b[0m: name 'your_acnt' is not defined"
     ]
    }
   ],
   "source": [
    "your_acnt.deposit(3000)"
   ]
  },
  {
   "cell_type": "code",
   "execution_count": 33,
   "metadata": {},
   "outputs": [
    {
     "ename": "NameError",
     "evalue": "name 'my_acnt' is not defined",
     "output_type": "error",
     "traceback": [
      "\u001b[1;31m---------------------------------------------------------------------------\u001b[0m",
      "\u001b[1;31mNameError\u001b[0m                                 Traceback (most recent call last)",
      "\u001b[1;32m<ipython-input-33-2c16024bb594>\u001b[0m in \u001b[0;36m<module>\u001b[1;34m()\u001b[0m\n\u001b[0;32m      1\u001b[0m \u001b[1;31m#constructor 생성자\u001b[0m\u001b[1;33m\u001b[0m\u001b[1;33m\u001b[0m\u001b[0m\n\u001b[0;32m      2\u001b[0m \u001b[1;31m#destructor 소멸자\u001b[0m\u001b[1;33m\u001b[0m\u001b[1;33m\u001b[0m\u001b[0m\n\u001b[1;32m----> 3\u001b[1;33m \u001b[1;32mdel\u001b[0m \u001b[0mmy_acnt\u001b[0m\u001b[1;33m\u001b[0m\u001b[0m\n\u001b[0m",
      "\u001b[1;31mNameError\u001b[0m: name 'my_acnt' is not defined"
     ]
    }
   ],
   "source": [
    "#constructor 생성자\n",
    "#destructor 소멸자\n",
    "del my_acnt"
   ]
  },
  {
   "cell_type": "code",
   "execution_count": 34,
   "metadata": {},
   "outputs": [
    {
     "ename": "NameError",
     "evalue": "name 'my_acnt' is not defined",
     "output_type": "error",
     "traceback": [
      "\u001b[1;31m---------------------------------------------------------------------------\u001b[0m",
      "\u001b[1;31mNameError\u001b[0m                                 Traceback (most recent call last)",
      "\u001b[1;32m<ipython-input-34-2d1ce3f9877a>\u001b[0m in \u001b[0;36m<module>\u001b[1;34m()\u001b[0m\n\u001b[1;32m----> 1\u001b[1;33m \u001b[0mmy_acnt\u001b[0m\u001b[1;33m.\u001b[0m\u001b[0mtransfer\u001b[0m\u001b[1;33m(\u001b[0m\u001b[0myour\u001b[0m\u001b[1;33m-\u001b[0m\u001b[0macnt\u001b[0m\u001b[1;33m,\u001b[0m \u001b[1;36m3000\u001b[0m\u001b[1;33m)\u001b[0m\u001b[1;33m\u001b[0m\u001b[0m\n\u001b[0m",
      "\u001b[1;31mNameError\u001b[0m: name 'my_acnt' is not defined"
     ]
    }
   ],
   "source": [
    "my_acnt.transfer(your-acnt, 3000)\n"
   ]
  },
  {
   "cell_type": "code",
   "execution_count": 35,
   "metadata": {
    "collapsed": true
   },
   "outputs": [],
   "source": [
    "#상호작용 message passing(interface)"
   ]
  },
  {
   "cell_type": "code",
   "execution_count": 45,
   "metadata": {
    "collapsed": true
   },
   "outputs": [],
   "source": [
    "#class : account\n",
    "#첫문자는 대문자 \n",
    "class Account:\n",
    "    \n",
    "    \n",
    "    \n",
    "    #class member\n",
    "    #모든 객체가 공유\n",
    "    interest_rate=7.0\n",
    "    name='Good Life'\n",
    "    kind='demending deposit'\n",
    "    \n",
    "    #class method\n",
    "    ##객체가 생성되기 전에도 호출가능\n",
    "    @classmethod\n",
    "    def get_account_info(cis):\n",
    "        return interest_rate, name, kind\n",
    "    \n",
    "    #생성자\n",
    "    #멤버의 초기화\n",
    "    def __init__(self, name, money):\n",
    "        #instance member : 연관있는 변수 \n",
    "        self.user = name\n",
    "        self.balance = money #위의4줄이 생성자임.\n",
    "    \n",
    "    #소멸자\n",
    "    #주 목적은 메모리의 해제\n",
    "    #거의 쓰이지 않아요 \n",
    "    def __del__(self):\n",
    "        print(\"Account object deleted!!\")\n",
    "    \n",
    "    #instance method : 연관있는 함수\n",
    "    def deposit(self, money):\n",
    "        if money <= 0:\n",
    "            return None\n",
    "        else:\n",
    "            self.balance += money\n",
    "            return self.balance \n",
    "    \n",
    "    def withdraw(self, money):\n",
    "        '''\n",
    "        obj.withdraw(money) -> bool\n",
    "        '''\n",
    "        if money <= self.balance:\n",
    "            self.balance -= money\n",
    "            return True\n",
    "        else:\n",
    "            return False\n",
    "    \n",
    "    #message passing\n",
    "    def transfer(self, other, money):\n",
    "        res = self.withdraw(money)\n",
    "        if res:\n",
    "            #다른 객체의 함수를 호출 -> 내부 정보를 바꾼다. \n",
    "            other.deposit(money)\n",
    "            return True\n",
    "        else:\n",
    "            return False\n",
    "    \n",
    "    def __str__(self):\n",
    "        return '{} : {}'.format(self.user, self.balance)"
   ]
  },
  {
   "cell_type": "code",
   "execution_count": 46,
   "metadata": {
    "collapsed": true
   },
   "outputs": [],
   "source": [
    "#class : 찍어내는 틀\n",
    "#object : 실제로 존재하는 객체 \n",
    "my_acnt = Account('greg', 5000)\n",
    "your_acnt = Account('john', 1000)"
   ]
  },
  {
   "cell_type": "code",
   "execution_count": 47,
   "metadata": {},
   "outputs": [
    {
     "name": "stdout",
     "output_type": "stream",
     "text": [
      "greg : 5000\n",
      "john : 1000\n"
     ]
    }
   ],
   "source": [
    "print(my_acnt)\n",
    "print(your_acnt)"
   ]
  },
  {
   "cell_type": "code",
   "execution_count": null,
   "metadata": {
    "collapsed": true
   },
   "outputs": [],
   "source": []
  },
  {
   "cell_type": "code",
   "execution_count": 48,
   "metadata": {},
   "outputs": [
    {
     "data": {
      "text/plain": [
       "7000"
      ]
     },
     "execution_count": 48,
     "metadata": {},
     "output_type": "execute_result"
    }
   ],
   "source": [
    "#객체의 메서드를 호출시 객체.함수이름()\n",
    "##but 클래스를 통해 호출하는 방식은 쓰이지는 않음. \n",
    "my_acnt.deposit(2000)"
   ]
  },
  {
   "cell_type": "code",
   "execution_count": 49,
   "metadata": {},
   "outputs": [
    {
     "data": {
      "text/plain": [
       "9000"
      ]
     },
     "execution_count": 49,
     "metadata": {},
     "output_type": "execute_result"
    }
   ],
   "source": [
    "Account.deposit(my_acnt, 2000) #수동으로 넣어줘야함."
   ]
  },
  {
   "cell_type": "code",
   "execution_count": 51,
   "metadata": {},
   "outputs": [
    {
     "name": "stdout",
     "output_type": "stream",
     "text": [
      "greg : 9000\n"
     ]
    }
   ],
   "source": [
    "print(my_acnt)"
   ]
  },
  {
   "cell_type": "code",
   "execution_count": 53,
   "metadata": {},
   "outputs": [
    {
     "data": {
      "text/plain": [
       "method"
      ]
     },
     "execution_count": 53,
     "metadata": {},
     "output_type": "execute_result"
    }
   ],
   "source": [
    "type(my_acnt.deposit)"
   ]
  },
  {
   "cell_type": "code",
   "execution_count": 54,
   "metadata": {},
   "outputs": [
    {
     "ename": "TypeError",
     "evalue": "type() takes 1 or 3 arguments",
     "output_type": "error",
     "traceback": [
      "\u001b[1;31m---------------------------------------------------------------------------\u001b[0m",
      "\u001b[1;31mTypeError\u001b[0m                                 Traceback (most recent call last)",
      "\u001b[1;32m<ipython-input-54-f3cf8f8eb46e>\u001b[0m in \u001b[0;36m<module>\u001b[1;34m()\u001b[0m\n\u001b[1;32m----> 1\u001b[1;33m \u001b[0mtype\u001b[0m\u001b[1;33m(\u001b[0m\u001b[1;33m)\u001b[0m\u001b[1;33m\u001b[0m\u001b[0m\n\u001b[0m",
      "\u001b[1;31mTypeError\u001b[0m: type() takes 1 or 3 arguments"
     ]
    }
   ],
   "source": [
    "type()"
   ]
  },
  {
   "cell_type": "code",
   "execution_count": 55,
   "metadata": {},
   "outputs": [
    {
     "data": {
      "text/plain": [
       "['__call__',\n",
       " '__class__',\n",
       " '__delattr__',\n",
       " '__dir__',\n",
       " '__doc__',\n",
       " '__eq__',\n",
       " '__format__',\n",
       " '__func__',\n",
       " '__ge__',\n",
       " '__get__',\n",
       " '__getattribute__',\n",
       " '__gt__',\n",
       " '__hash__',\n",
       " '__init__',\n",
       " '__init_subclass__',\n",
       " '__le__',\n",
       " '__lt__',\n",
       " '__ne__',\n",
       " '__new__',\n",
       " '__reduce__',\n",
       " '__reduce_ex__',\n",
       " '__repr__',\n",
       " '__self__',\n",
       " '__setattr__',\n",
       " '__sizeof__',\n",
       " '__str__',\n",
       " '__subclasshook__']"
      ]
     },
     "execution_count": 55,
     "metadata": {},
     "output_type": "execute_result"
    }
   ],
   "source": [
    "dir(my_acnt.deposit)"
   ]
  },
  {
   "cell_type": "code",
   "execution_count": 57,
   "metadata": {},
   "outputs": [
    {
     "data": {
      "text/plain": [
       "True"
      ]
     },
     "execution_count": 57,
     "metadata": {},
     "output_type": "execute_result"
    }
   ],
   "source": [
    "#method에는 __func__, __self__가 들어있음. \n",
    "my_acnt.deposit.__func__ is Account.deposit"
   ]
  },
  {
   "cell_type": "code",
   "execution_count": 58,
   "metadata": {},
   "outputs": [
    {
     "data": {
      "text/plain": [
       "True"
      ]
     },
     "execution_count": 58,
     "metadata": {},
     "output_type": "execute_result"
    }
   ],
   "source": [
    "my_acnt.deposit.__self__ is my_acnt"
   ]
  },
  {
   "cell_type": "code",
   "execution_count": 60,
   "metadata": {},
   "outputs": [
    {
     "data": {
      "text/plain": [
       "11000"
      ]
     },
     "execution_count": 60,
     "metadata": {},
     "output_type": "execute_result"
    }
   ],
   "source": [
    "my_acnt.deposit(2000)"
   ]
  },
  {
   "cell_type": "code",
   "execution_count": 61,
   "metadata": {
    "collapsed": true
   },
   "outputs": [],
   "source": [
    "#메서드는 함수정보와 객체정보를 동시에 갖고 있으므로 self(객체임)에다\n",
    "##정보를 넣어주지 않아도됨. \n",
    "#메서드와 함수의 차이를 이해해야함. \n",
    "#요구불계좌 demanding deposit\n"
   ]
  },
  {
   "cell_type": "code",
   "execution_count": 62,
   "metadata": {},
   "outputs": [
    {
     "data": {
      "text/plain": [
       "__main__.Account"
      ]
     },
     "execution_count": 62,
     "metadata": {},
     "output_type": "execute_result"
    }
   ],
   "source": [
    "Account"
   ]
  },
  {
   "cell_type": "code",
   "execution_count": 63,
   "metadata": {},
   "outputs": [
    {
     "ename": "AttributeError",
     "evalue": "type object 'Account' has no attribute 'interest_rate'",
     "output_type": "error",
     "traceback": [
      "\u001b[1;31m---------------------------------------------------------------------------\u001b[0m",
      "\u001b[1;31mAttributeError\u001b[0m                            Traceback (most recent call last)",
      "\u001b[1;32m<ipython-input-63-a1e553ef864f>\u001b[0m in \u001b[0;36m<module>\u001b[1;34m()\u001b[0m\n\u001b[0;32m      1\u001b[0m \u001b[1;31m#아직 Account 클래스에서 객체가 하나도 안 생긴 상태임\u001b[0m\u001b[1;33m\u001b[0m\u001b[1;33m\u001b[0m\u001b[0m\n\u001b[1;32m----> 2\u001b[1;33m \u001b[0mAccount\u001b[0m\u001b[1;33m.\u001b[0m\u001b[0minterest_rate\u001b[0m\u001b[1;33m\u001b[0m\u001b[0m\n\u001b[0m",
      "\u001b[1;31mAttributeError\u001b[0m: type object 'Account' has no attribute 'interest_rate'"
     ]
    }
   ],
   "source": [
    "#class method는 아직 Account 클래스에서 객체가 하나도 안 생긴 상태지만 호출가능\n",
    "##class member는 class 이름을 통해서 접근함. 모든객체가 공유.\n",
    "###\n",
    "#instance method 호출: \n",
    "Account.interest_rate"
   ]
  },
  {
   "cell_type": "code",
   "execution_count": 64,
   "metadata": {},
   "outputs": [
    {
     "name": "stdout",
     "output_type": "stream",
     "text": [
      "Account object deleted!!\n"
     ]
    }
   ],
   "source": [
    "my_acnt=Account('greg', 5000)"
   ]
  },
  {
   "cell_type": "code",
   "execution_count": 68,
   "metadata": {},
   "outputs": [],
   "source": [
    "class Person:\n",
    "    \n",
    "    planet='Earth' #모든객체가 공유하는 것을 클래스로 만든것임\n",
    "    #멤버 초기화\n",
    "    def __init__(self, name, age):\n",
    "        #name, age는 instance member\n",
    "        self.name\n",
    "        self.age\n",
    "        self.nationality=None #다른 함수에서 만들지 말고 \n",
    "            ##이런씩으로 이 안에서 만들되 안쓸거면 None으로표시\n",
    "    \n",
    "    def __del__(self):\n",
    "        pass\n",
    "    \n",
    "    #instance method: 객체가 가지는 기능이나 행동(behavior)를 의미\n",
    "    def eat(self, food):\n",
    "        print('{} eats {}'.format(self.name, food))\n",
    "        \n",
    "    def sleep(self, hour):\n",
    "        pass\n",
    "    #def func(self):\n",
    "     #   self.a=10 #다른함수에서 이렇게 만들수 있지만 안좋음."
   ]
  },
  {
   "cell_type": "code",
   "execution_count": 67,
   "metadata": {
    "collapsed": true
   },
   "outputs": [],
   "source": [
    "#<<명세: 아래처럼 대강의 구조만 주고 코딩해보는것을 의미>>\n",
    "#computer에 대한 클래스 만들것\n",
    "#3개의 멤버\n",
    "##self.send_data\n",
    "##self.receive_data\n",
    "##self.cpu: 어떤회사걸 쓸지 string으로 받을것\n",
    "##self.ram\n",
    "\n",
    "#3개의 메서드\n",
    "##data_receiver\n",
    "##data_sender\n",
    "#message passing: 다른 컴퓨터에게 내 정보를 전송\n",
    "#self.data: string\n",
    "##__str__\n",
    "#self.data\n"
   ]
  },
  {
   "cell_type": "code",
   "execution_count": 78,
   "metadata": {},
   "outputs": [],
   "source": [
    "#위 문제의 정답\n",
    "class Computer:\n",
    "    def __init__(self, cpu, ram):\n",
    "        self.CPU=cpu\n",
    "        self.RAM=ram\n",
    "        self.send_data=None #안쓰더라도 이렇게 None으로 해주는게좋음. \n",
    "        self.receive_data=None\n",
    "        \n",
    "    def get_data_from_user(self):\n",
    "        s=input(\"string: \")\n",
    "        self.send_data=s\n",
    "        \n",
    "        \n",
    "    def get_send_data(self):\n",
    "        return self.send_data\n",
    "        \n",
    "        #상대방을 other로 주로 표현함.\n",
    "    def message_sender(self, other):\n",
    "        if not self.send_data:\n",
    "            return False\n",
    "        else:\n",
    "            res=other.message_receiver(self)\n",
    "            self.send_data=None\n",
    "            return res\n",
    "        \n",
    "    def message_receiver(self, other):\n",
    "        if self.receive_data:\n",
    "            return False\n",
    "        else:\n",
    "            #other.send_data #이렇게 멤버에 직접 접근해도 작동하기는 하지만 \n",
    "            ##이렇게 하면 안되고 상대방이 가지고 \n",
    "            ##있는 함수를 통해서 해야한다는게 message passing의 개념.\n",
    "            self.receive_data=other.get_send_data()\n",
    "            if self.receive.data:\n",
    "                return True\n",
    "            else:\n",
    "                return False\n",
    "            \n",
    "    def get_receive_data(self):\n",
    "        return self.receive.data\n",
    "    \n",
    "    def __str__(self):\n",
    "        if not self.receive_data:\n",
    "            return 'No data'\n",
    "        else:\n",
    "            return self.receive_data"
   ]
  },
  {
   "cell_type": "code",
   "execution_count": 79,
   "metadata": {
    "collapsed": true
   },
   "outputs": [],
   "source": [
    "c1=Computer('inter', 16)"
   ]
  },
  {
   "cell_type": "code",
   "execution_count": 80,
   "metadata": {
    "collapsed": true
   },
   "outputs": [],
   "source": [
    "c2=Computer('AMD',4)"
   ]
  },
  {
   "cell_type": "code",
   "execution_count": 81,
   "metadata": {},
   "outputs": [
    {
     "name": "stdout",
     "output_type": "stream",
     "text": [
      "string: You are a big fish.\n"
     ]
    }
   ],
   "source": [
    "c1.get_data_from_user()"
   ]
  },
  {
   "cell_type": "code",
   "execution_count": 82,
   "metadata": {},
   "outputs": [
    {
     "name": "stdout",
     "output_type": "stream",
     "text": [
      "You are a big fish.\n"
     ]
    }
   ],
   "source": [
    "print(c1.get_send_data())"
   ]
  },
  {
   "cell_type": "code",
   "execution_count": 84,
   "metadata": {},
   "outputs": [
    {
     "name": "stdout",
     "output_type": "stream",
     "text": [
      "You are a big fish.\n"
     ]
    }
   ],
   "source": [
    "c1.message_sender(c2)\n",
    "print(c2)"
   ]
  },
  {
   "cell_type": "markdown",
   "metadata": {},
   "source": [
    "c1.message_sender(s2)"
   ]
  },
  {
   "cell_type": "code",
   "execution_count": 85,
   "metadata": {},
   "outputs": [
    {
     "data": {
      "text/plain": [
       "False"
      ]
     },
     "execution_count": 85,
     "metadata": {},
     "output_type": "execute_result"
    }
   ],
   "source": [
    "c1.message_sender(c2)"
   ]
  },
  {
   "cell_type": "code",
   "execution_count": 86,
   "metadata": {},
   "outputs": [
    {
     "name": "stdout",
     "output_type": "stream",
     "text": [
      "You are a big fish.\n"
     ]
    }
   ],
   "source": [
    "print(c2)"
   ]
  },
  {
   "cell_type": "code",
   "execution_count": null,
   "metadata": {
    "collapsed": true
   },
   "outputs": [],
   "source": []
  }
 ],
 "metadata": {
  "kernelspec": {
   "display_name": "Python 3",
   "language": "python",
   "name": "python3"
  },
  "language_info": {
   "codemirror_mode": {
    "name": "ipython",
    "version": 3
   },
   "file_extension": ".py",
   "mimetype": "text/x-python",
   "name": "python",
   "nbconvert_exporter": "python",
   "pygments_lexer": "ipython3",
   "version": "3.6.1"
  }
 },
 "nbformat": 4,
 "nbformat_minor": 2
}
