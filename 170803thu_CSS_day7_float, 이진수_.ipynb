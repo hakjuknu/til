{
 "cells": [
  {
   "cell_type": "code",
   "execution_count": 1,
   "metadata": {},
   "outputs": [
    {
     "data": {
      "text/plain": [
       "6"
      ]
     },
     "execution_count": 1,
     "metadata": {},
     "output_type": "execute_result"
    }
   ],
   "source": [
    "def func(a,b=5): #initial value(디폴트값)은 뒤에서부터 채워짐\n",
    "    return a+b\n",
    "func(2,4)"
   ]
  },
  {
   "cell_type": "code",
   "execution_count": 2,
   "metadata": {},
   "outputs": [
    {
     "data": {
      "text/plain": [
       "8"
      ]
     },
     "execution_count": 2,
     "metadata": {},
     "output_type": "execute_result"
    }
   ],
   "source": [
    "func(3)"
   ]
  },
  {
   "cell_type": "code",
   "execution_count": 3,
   "metadata": {},
   "outputs": [
    {
     "ename": "SyntaxError",
     "evalue": "unexpected EOF while parsing (<ipython-input-3-49bb74d45839>, line 2)",
     "output_type": "error",
     "traceback": [
      "\u001b[1;36m  File \u001b[1;32m\"<ipython-input-3-49bb74d45839>\"\u001b[1;36m, line \u001b[1;32m2\u001b[0m\n\u001b[1;33m    \u001b[0m\n\u001b[1;37m    ^\u001b[0m\n\u001b[1;31mSyntaxError\u001b[0m\u001b[1;31m:\u001b[0m unexpected EOF while parsing\n"
     ]
    }
   ],
   "source": [
    "def func(a=a,b):\n",
    "    "
   ]
  },
  {
   "cell_type": "code",
   "execution_count": 4,
   "metadata": {},
   "outputs": [
    {
     "data": {
      "text/plain": [
       "'c:\\\\Users\\\\user\\\\desktop'"
      ]
     },
     "execution_count": 4,
     "metadata": {},
     "output_type": "execute_result"
    }
   ],
   "source": [
    "import os\n",
    "os.chdir(r'c:\\Users\\user\\desktop')\n",
    "os.getcwd()\n"
   ]
  },
  {
   "cell_type": "code",
   "execution_count": 6,
   "metadata": {},
   "outputs": [
    {
     "name": "stdout",
     "output_type": "stream",
     "text": [
      "30\n"
     ]
    }
   ],
   "source": [
    "def func(a,b):\n",
    "    return a+b\n",
    "\n",
    "a=10\n",
    "b=20\n",
    "\n",
    "c=func(a,b)\n",
    "print(c) #파이썬도 스택프레임을 만듬. SymbolTable만들때 변수가 몇개 들어가나? \n",
    "##아 3개 들어가는 구나 하고 메모리에 공간을 3개 만들어 놓은후 마지막에 결과값 30을 집어넣으면 되도록 만듬."
   ]
  },
  {
   "cell_type": "code",
   "execution_count": 7,
   "metadata": {},
   "outputs": [
    {
     "name": "stdout",
     "output_type": "stream",
     "text": [
      "x:20 in change_value\n",
      "x:10 in change_value\n"
     ]
    }
   ],
   "source": [
    "#파이썬의 call by object reference (= call by assignment) \n",
    "#인자(arguments)를 assignment로 던진다.  in python manuals\n",
    "def change_value(x, value):\n",
    "    x=value\n",
    "    print(\"x:{} in change_value\".format(x))#format: string의 내장함수.\n",
    "    \n",
    "x=10\n",
    "change_value(x,20)\n",
    "print(\"x:{} in change_value\".format(x))#value라면 값이 안 바뀔것이고 reference라면 바뀔것이다.\n",
    "##일단 처음엔 object를 reference로 함. "
   ]
  },
  {
   "cell_type": "code",
   "execution_count": 17,
   "metadata": {},
   "outputs": [
    {
     "name": "stdout",
     "output_type": "stream",
     "text": [
      "['I am your father!', 2, 3, 4]\n",
      "['I am your father!', 2, 3, 4]\n"
     ]
    }
   ],
   "source": [
    "#위의 결과를 보니 파이썬-> call by value라고 생각할수있음. 그러나\n",
    "def change_value(li, idx,value):\n",
    "    li[idx]=value\n",
    "    print(li)\n",
    "    \n",
    "li=[1,2,3,4,]\n",
    "change_value(li, 0, \"I am your father!\")\n",
    "print(li)\n",
    "#파이썬의 중대한특징: mutable일때와 immutable일때가 다르다는사실.\n",
    "\n",
    "##메모리공간을 할당한것이 아니라 기존의 메모리로 접근한것임. "
   ]
  },
  {
   "cell_type": "code",
   "execution_count": 19,
   "metadata": {},
   "outputs": [
    {
     "name": "stdout",
     "output_type": "stream",
     "text": [
      "['I am your father!', 2, 3, 4]\n",
      "[1, 2, 3, 4]\n"
     ]
    }
   ],
   "source": [
    "#따라서 neither call by value nor call by reference\n",
    "##mutable은 다 변경이 되는 것이구나 하고 생각할수 있지만 아님. \n",
    "def change_value(li, idx,value):\n",
    "    li=['I am your father!', 2, 3, 4] #메모리공간에 새롭게 할당했다는뜻.\n",
    "    ##즉 함수내에서 새로운 메모리를 할다 하느냐 안 하느냐의 차이임. \n",
    "    print(li)\n",
    "    \n",
    "li=[1,2,3,4,]\n",
    "change_value(li, 0, \"I am your father!\")\n",
    "print(li)"
   ]
  },
  {
   "cell_type": "code",
   "execution_count": 20,
   "metadata": {
    "collapsed": true
   },
   "outputs": [],
   "source": [
    "def change_value(s):\n",
    "    s='abcde'\n",
    "    \n",
    "s='zzzzzzzz' #파이썬은 string은 immutable이므로 못 바꿈. 따라서 새롭게 \n",
    "##메모리공간을 만들고 assign할뿐. but list 는 mutable이므로 \n",
    "##기존의 메모리공간을 잡아놓고 변경하면\n",
    "##새로운 메모리공간을 잡을 필요없음. \n",
    "change_value(s)"
   ]
  },
  {
   "cell_type": "code",
   "execution_count": 21,
   "metadata": {
    "collapsed": true
   },
   "outputs": [],
   "source": [
    "import sys\n"
   ]
  },
  {
   "cell_type": "code",
   "execution_count": 26,
   "metadata": {
    "collapsed": true
   },
   "outputs": [],
   "source": [
    "s=\"I am your father!\"\n",
    "b=s"
   ]
  },
  {
   "cell_type": "code",
   "execution_count": 27,
   "metadata": {},
   "outputs": [
    {
     "data": {
      "text/plain": [
       "3"
      ]
     },
     "execution_count": 27,
     "metadata": {},
     "output_type": "execute_result"
    }
   ],
   "source": [
    "sys.getrefcount(s) #자신까지 포함해서 카운트하므로 항상 결과값에서 -1을 해줘야함. "
   ]
  },
  {
   "cell_type": "code",
   "execution_count": 28,
   "metadata": {
    "collapsed": true
   },
   "outputs": [],
   "source": [
    "s=\"I am your father!\"\n"
   ]
  },
  {
   "cell_type": "code",
   "execution_count": 29,
   "metadata": {},
   "outputs": [
    {
     "data": {
      "text/plain": [
       "2"
      ]
     },
     "execution_count": 29,
     "metadata": {},
     "output_type": "execute_result"
    }
   ],
   "source": [
    "sys.getrefcount(s)#자신까지 포함해서 카운트하므로 항상 결과값에서 -1을 해줘야함. "
   ]
  },
  {
   "cell_type": "code",
   "execution_count": 33,
   "metadata": {
    "collapsed": true
   },
   "outputs": [],
   "source": [
    "a=1"
   ]
  },
  {
   "cell_type": "code",
   "execution_count": 35,
   "metadata": {},
   "outputs": [
    {
     "data": {
      "text/plain": [
       "2410"
      ]
     },
     "execution_count": 35,
     "metadata": {},
     "output_type": "execute_result"
    }
   ],
   "source": [
    "sys.getrefcount(a)#object를 만들고 지우는 것은 매우 resource를 \n",
    "##많이 잡아먹으므로 자주 쓰이는 숫자는 미리 만들어\n",
    "##놓아 참조하게 하는것을 =>\"object pool\""
   ]
  },
  {
   "cell_type": "code",
   "execution_count": 39,
   "metadata": {},
   "outputs": [
    {
     "data": {
      "text/plain": [
       "58"
      ]
     },
     "execution_count": 39,
     "metadata": {},
     "output_type": "execute_result"
    }
   ],
   "source": [
    "a=22\n",
    "sys.getrefcount(a)"
   ]
  },
  {
   "cell_type": "code",
   "execution_count": 47,
   "metadata": {},
   "outputs": [
    {
     "name": "stdout",
     "output_type": "stream",
     "text": [
      "[10, 2, 3, 4]\n",
      "[10, 2, 3, 4]\n"
     ]
    }
   ],
   "source": [
    "#mutable\n",
    "def func(li): #함수는 호출전까지는 SymbolTable을 만들어놓기만 하고 실행은 안됨\n",
    "    li[0]=10\n",
    "    print(li)\n",
    "    \n",
    "li=[1,2,3,4,]\n",
    "func(li)\n",
    "#10이 오면 0번 인덱스를 지움.\n",
    "print(li)"
   ]
  },
  {
   "cell_type": "code",
   "execution_count": 46,
   "metadata": {
    "collapsed": true
   },
   "outputs": [],
   "source": [
    "def func(li):\n",
    "    li=[10,2,3,4,] #이게 assignment임. 따라서 파이썬은 call by assignment.\n",
    "\n",
    "li=[1,2,3,4,]\n",
    "func(li)"
   ]
  },
  {
   "cell_type": "code",
   "execution_count": 43,
   "metadata": {},
   "outputs": [
    {
     "name": "stdout",
     "output_type": "stream",
     "text": [
      "<function func at 0x0574B738>\n"
     ]
    }
   ],
   "source": [
    "print()"
   ]
  },
  {
   "cell_type": "code",
   "execution_count": 48,
   "metadata": {
    "collapsed": true
   },
   "outputs": [],
   "source": [
    "#immutable은 이렇게 작동함. \n",
    "def func(a):\n",
    "    a=20\n",
    "x=10\n",
    "func(x)"
   ]
  },
  {
   "cell_type": "code",
   "execution_count": 49,
   "metadata": {},
   "outputs": [
    {
     "name": "stdout",
     "output_type": "stream",
     "text": [
      "10\n"
     ]
    }
   ],
   "source": [
    "print(x)"
   ]
  },
  {
   "cell_type": "code",
   "execution_count": 52,
   "metadata": {},
   "outputs": [
    {
     "name": "stdout",
     "output_type": "stream",
     "text": [
      "abc\n"
     ]
    }
   ],
   "source": [
    "def change_value(x):\n",
    "    x=\"abc\"\n",
    "    return x #바꾼다음 그걸 리턴값을 받은후 (하고) \n",
    "##나중에 네가 받아라. 이것이 못바꾸는 문제의 the clearest solution.\n",
    "x=\"aaa\"\n",
    "x=change_value(x)\n",
    "print(x)"
   ]
  },
  {
   "cell_type": "code",
   "execution_count": 53,
   "metadata": {
    "collapsed": true
   },
   "outputs": [],
   "source": [
    "#<총정리>\n",
    "#1. mutable\n",
    "    #1) 리스트 내부의 요소를 바꾼다=> 변경 ok\n",
    "        #li[2]=value\n",
    "    #2) 리스트를 통째로 바꾼다=> 변경 x\n",
    "        #li=[1,2,3,4,]\n",
    "#2. immutable: 상수, 튜플, 스트링\n",
    "    #그냥 변경 안된다. 즉 함수 내부에서 절대 변경 안되게 되어 있음. "
   ]
  },
  {
   "cell_type": "code",
   "execution_count": 54,
   "metadata": {
    "collapsed": true
   },
   "outputs": [],
   "source": [
    "a=10\n",
    "b=0xfa #16진수를 입력"
   ]
  },
  {
   "cell_type": "code",
   "execution_count": 55,
   "metadata": {},
   "outputs": [
    {
     "data": {
      "text/plain": [
       "250"
      ]
     },
     "execution_count": 55,
     "metadata": {},
     "output_type": "execute_result"
    }
   ],
   "source": [
    "b"
   ]
  },
  {
   "cell_type": "code",
   "execution_count": 56,
   "metadata": {},
   "outputs": [
    {
     "data": {
      "text/plain": [
       "989"
      ]
     },
     "execution_count": 56,
     "metadata": {},
     "output_type": "execute_result"
    }
   ],
   "source": [
    "c=0b1111011101 #2진수 입력\n",
    "c"
   ]
  },
  {
   "cell_type": "code",
   "execution_count": 57,
   "metadata": {},
   "outputs": [
    {
     "data": {
      "text/plain": [
       "'0b11001'"
      ]
     },
     "execution_count": 57,
     "metadata": {},
     "output_type": "execute_result"
    }
   ],
   "source": [
    "bin(25) #2진수로 만들어라"
   ]
  },
  {
   "cell_type": "code",
   "execution_count": 61,
   "metadata": {},
   "outputs": [
    {
     "data": {
      "text/plain": [
       "'0x19'"
      ]
     },
     "execution_count": 61,
     "metadata": {},
     "output_type": "execute_result"
    }
   ],
   "source": [
    "hex(25)#\n"
   ]
  },
  {
   "cell_type": "code",
   "execution_count": 62,
   "metadata": {},
   "outputs": [
    {
     "data": {
      "text/plain": [
       "'0x54695780'"
      ]
     },
     "execution_count": 62,
     "metadata": {},
     "output_type": "execute_result"
    }
   ],
   "source": [
    "hex(id(a))#메모리상에 실제로 있는 첫번째주소값을 알려줘"
   ]
  },
  {
   "cell_type": "code",
   "execution_count": null,
   "metadata": {
    "collapsed": true
   },
   "outputs": [],
   "source": []
  }
 ],
 "metadata": {
  "kernelspec": {
   "display_name": "Python 3",
   "language": "python",
   "name": "python3"
  },
  "language_info": {
   "codemirror_mode": {
    "name": "ipython",
    "version": 3
   },
   "file_extension": ".py",
   "mimetype": "text/x-python",
   "name": "python",
   "nbconvert_exporter": "python",
   "pygments_lexer": "ipython3",
   "version": "3.6.1"
  }
 },
 "nbformat": 4,
 "nbformat_minor": 2
}
