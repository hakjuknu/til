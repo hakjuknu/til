{
 "cells": [
  {
   "cell_type": "code",
   "execution_count": null,
   "metadata": {
    "collapsed": true
   },
   "outputs": [],
   "source": [
    "#오늘 수업: list comprehension, \n"
   ]
  },
  {
   "cell_type": "code",
   "execution_count": null,
   "metadata": {},
   "outputs": [],
   "source": [
    "#어제 내준 숙제 풀이\n",
    "#Monty Hall Simulation\n",
    "\n",
    "import random #random library를 쓰겠다고 선언.\n",
    "\n",
    "\n",
    "stay=0\n",
    "switch=0\n",
    "for i in range(1000): # 0부터 1000개를 돌려란뜻. main반복문의 시작으로서 아래 안의 내용을 1000번 반복하겠다는뜻\n",
    "    doors = [1,0,0] #1: 차, 0: 염소\n",
    "    random.shuffle(doors) #doors list를 임의로 섞어라.\n",
    "    \n",
    "    choice=random.randrange(3) #0~2까지 범위이므로 3. 몇번째 문을 선택할 것인가?\n",
    "    \n",
    "    user=doors[choice] #user에 choice번째 문을 저장하라. 즉 0,1,2에 하나를 저장.\n",
    "    \n",
    "    if user== 1:\n",
    "        stay= stay + 1\n",
    "    else:\n",
    "        switch= switch +1\n",
    "print(\"stay: %4d \" % stay) #%4d: 4칸 확보후 string formatting\n",
    "print(\"switch: %4d \" % switch)"
   ]
  },
  {
   "cell_type": "code",
   "execution_count": null,
   "metadata": {},
   "outputs": [],
   "source": [
    "# #ethiopian multiplication\n",
    "#  곱할때 앞숫자는 계속 2로 정수나누기, 뒷 숫자는 계속 2를 곱하는데 \n",
    "#     왼쪽수가 짝수일때는 우측수를 struck(버리고) 홀수일때만 keep(취한)후 총합이 정답이다. \n",
    "\n",
    "numbers=str(input(\"two nums with space: \")).split()\n",
    "\n",
    "result=0\n",
    "num1=int(numbers[0])\n",
    "num2=int(numbers[1])\n",
    "\n",
    "while num1 >=1:\n",
    "    if num1 % 2 ==0: #짝수라면\n",
    "        print(\"%4d %7d struck \" % (num1, num2))\n",
    "    else:\n",
    "        print(\"%4d %7d keep \" % (num1, num2))\n",
    "        result += num2\n",
    "        \n",
    "    num1= num1//2\n",
    "    num2=num2*2\n",
    "print(\"The result is \", result)"
   ]
  },
  {
   "cell_type": "code",
   "execution_count": null,
   "metadata": {},
   "outputs": [],
   "source": [
    "python\n"
   ]
  },
  {
   "cell_type": "code",
   "execution_count": null,
   "metadata": {
    "collapsed": true
   },
   "outputs": [],
   "source": [
    "facamp='fastcampus' #string화 시킴"
   ]
  },
  {
   "cell_type": "code",
   "execution_count": null,
   "metadata": {
    "collapsed": true
   },
   "outputs": [],
   "source": [
    "facamp\n",
    "commaed= \",\".join(facamp) #,를 사이사이에 join시켜라\n",
    "commaed\n",
    "commaed.split(\",\") #,를 기준으로 요소들을 분리해서 list화."
   ]
  },
  {
   "cell_type": "code",
   "execution_count": null,
   "metadata": {
    "collapsed": true
   },
   "outputs": [],
   "source": [
    "#\n",
    "tuple_facamp = tuple(\",\".join(facamp).split(\",\"))"
   ]
  },
  {
   "cell_type": "code",
   "execution_count": null,
   "metadata": {},
   "outputs": [],
   "source": [
    "tuple_facamp"
   ]
  },
  {
   "cell_type": "code",
   "execution_count": null,
   "metadata": {},
   "outputs": [],
   "source": [
    "type(tuple_facamp)"
   ]
  },
  {
   "cell_type": "code",
   "execution_count": null,
   "metadata": {},
   "outputs": [],
   "source": [
    "#에티오피안 곱셈 실습\n",
    "numbers=str(input(\"two nums with space: \")).split()\n",
    "\n",
    "result=0\n",
    "num1 = int(numbers[0])\n",
    "num2 = int(numbers[1])\n",
    "\n",
    "while num1 >=1:\n",
    "    if num1 % 2 == 0:\n",
    "        print(\"%4d %7d struck \" % (num1, num2))\n",
    "    else:\n",
    "        print(\"%4d %7d keep \" % (num1, num2))\n",
    "        result = result + num2\n",
    "        \n",
    "    num1= num1 // 2 #정수나눗셈 을 해주지 않으면 예)7.5로 나왔을때 항상 keep을 하게 되어 문제발생.\n",
    "    num2= num2 *2\n",
    "print(\"The result is \", result)"
   ]
  },
  {
   "cell_type": "markdown",
   "metadata": {},
   "source": [
    "#dictionary, Set: 자리번호 index없음. 즉 자유석. 그리고 셀수도 없음. cf. 튜플, 리스트자리번호 있음. \n",
    "딕셔너리선언 dic1={}\n",
    "딕셔너리는 {\"key\":\"value\"}로 구성\n",
    "요소삭제: del dict1['math']\n",
    "print(dict1['korean']) #key를 활용해 value 출력\n",
    "print(dict1\n",
    "sql는 table로 구성되어 있는데 파이썬의 딕셔너리는 바로 찾음. \n",
    "#인터넷사이트의 구매이력\n",
    "\n",
    "\n"
   ]
  },
  {
   "cell_type": "code",
   "execution_count": null,
   "metadata": {
    "collapsed": true
   },
   "outputs": [],
   "source": []
  },
  {
   "cell_type": "code",
   "execution_count": null,
   "metadata": {},
   "outputs": [],
   "source": [
    "dict1={}\n",
    "dict1['korean']=100\n",
    "dict1"
   ]
  },
  {
   "cell_type": "code",
   "execution_count": null,
   "metadata": {
    "collapsed": true
   },
   "outputs": [],
   "source": [
    "dict2={'korean':100, 'math':80, 'science':[50,45,20,15]}"
   ]
  },
  {
   "cell_type": "code",
   "execution_count": null,
   "metadata": {},
   "outputs": [],
   "source": [
    "dict2"
   ]
  },
  {
   "cell_type": "code",
   "execution_count": null,
   "metadata": {},
   "outputs": [],
   "source": [
    "dict2"
   ]
  },
  {
   "cell_type": "code",
   "execution_count": null,
   "metadata": {
    "collapsed": true
   },
   "outputs": [],
   "source": [
    "dict2={'korean':100, 'math':80, 'science':[50,45,20,15],} #}닫기전에 ,를 해 주는것이 github에서 인식문제 발생안함\n"
   ]
  },
  {
   "cell_type": "code",
   "execution_count": null,
   "metadata": {},
   "outputs": [],
   "source": [
    "dict2"
   ]
  },
  {
   "cell_type": "code",
   "execution_count": null,
   "metadata": {},
   "outputs": [],
   "source": [
    "dict2{'korean':100, 'math':80, 'science':[50,45,20,15]}"
   ]
  },
  {
   "cell_type": "code",
   "execution_count": null,
   "metadata": {},
   "outputs": [],
   "source": [
    "#item= key and value\n",
    "#딕셔너리내에서 []는 key를 의미\n",
    "dict2['history']=True #history란 키와 70이란 밸류를 추가하라\n",
    "dict2"
   ]
  },
  {
   "cell_type": "code",
   "execution_count": null,
   "metadata": {},
   "outputs": [],
   "source": [
    "del dict2['history']\n",
    "dict2"
   ]
  },
  {
   "cell_type": "code",
   "execution_count": null,
   "metadata": {},
   "outputs": [],
   "source": [
    "dict2['math'] #dict2란 딕셔너리의 key math의 value?"
   ]
  },
  {
   "cell_type": "code",
   "execution_count": null,
   "metadata": {},
   "outputs": [],
   "source": [
    "dict2.keys()"
   ]
  },
  {
   "cell_type": "code",
   "execution_count": null,
   "metadata": {},
   "outputs": [],
   "source": [
    "dict2.values()"
   ]
  },
  {
   "cell_type": "code",
   "execution_count": null,
   "metadata": {},
   "outputs": [],
   "source": [
    "dict2.items() #리스트로 출력되고 그 속은 튜플로 출력되는 점을 주목.??"
   ]
  },
  {
   "cell_type": "code",
   "execution_count": null,
   "metadata": {},
   "outputs": [],
   "source": [
    "# #Small Quiz\n",
    "# A='fastcampus'\n",
    "# B='python'\n",
    "# A, B 합집합 :\n",
    "#     교집합: \n",
    "#         차집합\n",
    "#         델타\n",
    "        \n",
    "# Set\n",
    "# ##수학 집합연산 쉽게 하기위한 자료형\n",
    "# 순서없음\n",
    "# 중봉없음\n",
    "\n",
    "#set선언: {}안에 key, value쌍이 아니라 요소 하나씩만 있고 ,로 구분\n",
    "ppap = {'pen', 'apple', 'pineapple', 'pen'} #unique하게 남기고 중복요소 자동삭제됨\n",
    "print(ppap)"
   ]
  },
  {
   "cell_type": "code",
   "execution_count": null,
   "metadata": {},
   "outputs": [],
   "source": [
    "\"apple\" in ppap"
   ]
  },
  {
   "cell_type": "code",
   "execution_count": null,
   "metadata": {},
   "outputs": [],
   "source": [
    "'applepen' in ppap"
   ]
  },
  {
   "cell_type": "code",
   "execution_count": null,
   "metadata": {},
   "outputs": [],
   "source": [
    "'pineapple' in ppap"
   ]
  },
  {
   "cell_type": "code",
   "execution_count": null,
   "metadata": {},
   "outputs": [],
   "source": [
    "'pineapplepen' in ppap"
   ]
  },
  {
   "cell_type": "code",
   "execution_count": null,
   "metadata": {
    "collapsed": true
   },
   "outputs": [],
   "source": [
    "pineapple= set('pineapple') #중복삭제 통해 set(집합)화."
   ]
  },
  {
   "cell_type": "code",
   "execution_count": null,
   "metadata": {},
   "outputs": [],
   "source": [
    "pineapple"
   ]
  },
  {
   "cell_type": "code",
   "execution_count": null,
   "metadata": {},
   "outputs": [],
   "source": [
    "#집합 연산자\n",
    "A=set('fastcampus')\n",
    "B=set('python')\n",
    "A | B #합집합\n",
    "A & B #교집합\n",
    "A - B #차집합\n",
    "A ^ B #델타: 합집합-교집합"
   ]
  },
  {
   "cell_type": "code",
   "execution_count": null,
   "metadata": {},
   "outputs": [],
   "source": [
    "A,B"
   ]
  },
  {
   "cell_type": "code",
   "execution_count": null,
   "metadata": {
    "collapsed": true
   },
   "outputs": [],
   "source": [
    "#딕셔너리는 item(=key: value); 리스트, 튜플, 세트는 element 라고 부름"
   ]
  },
  {
   "cell_type": "code",
   "execution_count": null,
   "metadata": {},
   "outputs": [],
   "source": [
    "#Refactoring numguess\n",
    "\n",
    "import random\n",
    "\n",
    "\n",
    "answer = random.randint(1,100)\n",
    "username = input(\"Hi there, What's your name?? \")\n",
    "\n",
    "while True:\n",
    "\tguess = eval(input(\"Hi \"+ username + \", guess the number: \"))\n",
    "\n",
    "\tif guess == answer:\n",
    "\t\tprint(\"Correct! The answer was \", str(answer))\n",
    "\t\tbreak\n",
    "\telse:\n",
    "\t\tprint(\"That's not what I wanted!! Try again!!\")"
   ]
  },
  {
   "cell_type": "code",
   "execution_count": null,
   "metadata": {
    "collapsed": true
   },
   "outputs": [],
   "source": [
    "import random\n",
    "\n",
    "\n",
    "answer = random.randint(1,100)\n",
    "username = input(\"Hi there, What's your name?? \")\n",
    "\n",
    "while True:\n",
    "    guess = eval(input(\"Hi, \"+ username + \"guess the number: \"))\n",
    "\n",
    "    if guess == answer:\n",
    "        print(\"Correct! The answer was \", str(answer))\n",
    "        break\n",
    "    elif guess > answer:\n",
    "        print(\"Too high!! Try again!!\")\n",
    "    elif guess < answer:\n",
    "        print(\"Too Low!! Try again!!\")"
   ]
  },
  {
   "cell_type": "code",
   "execution_count": 4,
   "metadata": {
    "collapsed": true
   },
   "outputs": [],
   "source": [
    "# #list comprehension: 이미 존재하는 리스트를 활용하여 \n",
    "# 새로운 리스트를 생성하는 법\n",
    "# #비슷한표현들\n",
    "# ##set comprehension\n",
    "# ##dictionary comprehension\n",
    "# ##parallel list comprehension\n",
    "\n",
    "old_list=[1,2,3,4,5,]\n",
    "\n",
    "doubled_list =[]\n",
    "for i in old_list:\n",
    "    doubled_list.append(i*2) #doubled_list에 append할건데 2곱한 값들을."
   ]
  },
  {
   "cell_type": "code",
   "execution_count": 2,
   "metadata": {},
   "outputs": [
    {
     "data": {
      "text/plain": [
       "[2, 4, 6, 8, 10]"
      ]
     },
     "execution_count": 2,
     "metadata": {},
     "output_type": "execute_result"
    }
   ],
   "source": [
    "doubled_list"
   ]
  },
  {
   "cell_type": "code",
   "execution_count": 3,
   "metadata": {
    "collapsed": true
   },
   "outputs": [],
   "source": [
    "double_list=[i*2 for i in old_list]"
   ]
  },
  {
   "cell_type": "code",
   "execution_count": null,
   "metadata": {
    "collapsed": true
   },
   "outputs": [],
   "source": [
    "#리스트 컴프리헨션: 어떤 process를 \n",
    "#어디에 넣을것인가(반복문, 조건문)를 타이핑!\n",
    "\n"
   ]
  },
  {
   "cell_type": "code",
   "execution_count": 5,
   "metadata": {
    "collapsed": true
   },
   "outputs": [],
   "source": [
    "doubled_list =[i*2 for i in old_list ]"
   ]
  },
  {
   "cell_type": "code",
   "execution_count": 6,
   "metadata": {},
   "outputs": [
    {
     "data": {
      "text/plain": [
       "[2, 4, 6, 8, 10]"
      ]
     },
     "execution_count": 6,
     "metadata": {},
     "output_type": "execute_result"
    }
   ],
   "source": [
    "double_list"
   ]
  },
  {
   "cell_type": "code",
   "execution_count": 7,
   "metadata": {
    "collapsed": true
   },
   "outputs": [],
   "source": [
    "old_list = [1, 2, 3, 4, 5,]\n",
    "\n",
    "doubled_list = []\n",
    "for i in old_list:\n",
    "\tif i % 2 == 0:\n",
    "\t\tdoubled_list.append(i * 2)"
   ]
  },
  {
   "cell_type": "code",
   "execution_count": 8,
   "metadata": {
    "collapsed": true
   },
   "outputs": [],
   "source": [
    "#새로운 리스트 복사후 원하는 프로세스 복붙, 조건 복붙\n",
    "doubled_list = [i * 2 for i in old_list if i % 2 == 0]"
   ]
  },
  {
   "cell_type": "code",
   "execution_count": 9,
   "metadata": {},
   "outputs": [
    {
     "data": {
      "text/plain": [
       "[4, 8]"
      ]
     },
     "execution_count": 9,
     "metadata": {},
     "output_type": "execute_result"
    }
   ],
   "source": [
    "doubled_list"
   ]
  },
  {
   "cell_type": "code",
   "execution_count": 10,
   "metadata": {},
   "outputs": [
    {
     "data": {
      "text/plain": [
       "[4, 8]"
      ]
     },
     "execution_count": 10,
     "metadata": {},
     "output_type": "execute_result"
    }
   ],
   "source": [
    "old_list = [1, 2, 3, 4, 5,]\n",
    "\n",
    "doubled_list = []\n",
    "for i in old_list:\n",
    "\tif i % 2 == 0:\n",
    "\t\tdoubled_list.append(i * 2)\n",
    "doubled_list"
   ]
  },
  {
   "cell_type": "code",
   "execution_count": 11,
   "metadata": {
    "collapsed": true
   },
   "outputs": [],
   "source": [
    "old_list=[1,2,3,4,5,]\n",
    "\n",
    "doubled_list=[]\n",
    "for i in old_list:\n",
    "    if i % 2 ==0:\n",
    "        doubled_list.append(i*2)"
   ]
  },
  {
   "cell_type": "code",
   "execution_count": 12,
   "metadata": {},
   "outputs": [
    {
     "data": {
      "text/plain": [
       "[4, 8]"
      ]
     },
     "execution_count": 12,
     "metadata": {},
     "output_type": "execute_result"
    }
   ],
   "source": [
    "doubled_list"
   ]
  },
  {
   "cell_type": "code",
   "execution_count": 13,
   "metadata": {
    "collapsed": true
   },
   "outputs": [],
   "source": [
    "doubled_list=[i*2 for i in old_list if i % 2 ==0]"
   ]
  },
  {
   "cell_type": "code",
   "execution_count": 14,
   "metadata": {},
   "outputs": [
    {
     "data": {
      "text/plain": [
       "[4, 8]"
      ]
     },
     "execution_count": 14,
     "metadata": {},
     "output_type": "execute_result"
    }
   ],
   "source": [
    "doubled_list"
   ]
  },
  {
   "cell_type": "code",
   "execution_count": 18,
   "metadata": {},
   "outputs": [
    {
     "name": "stdout",
     "output_type": "stream",
     "text": [
      "1\n",
      "2\n",
      "fizz\n",
      "4\n",
      "buzz\n",
      "fizz\n",
      "7\n",
      "8\n",
      "fizz\n",
      "buzz\n",
      "11\n",
      "fizz\n",
      "13\n",
      "14\n",
      "fizzbuzz\n",
      "16\n",
      "17\n",
      "fizz\n",
      "19\n",
      "buzz\n",
      "fizz\n",
      "22\n",
      "23\n",
      "fizz\n",
      "buzz\n",
      "26\n",
      "fizz\n",
      "28\n",
      "29\n",
      "fizzbuzz\n",
      "31\n",
      "32\n",
      "fizz\n",
      "34\n",
      "buzz\n",
      "fizz\n",
      "37\n",
      "38\n",
      "fizz\n",
      "buzz\n",
      "41\n",
      "fizz\n",
      "43\n",
      "44\n",
      "fizzbuzz\n",
      "46\n",
      "47\n",
      "fizz\n",
      "49\n",
      "buzz\n",
      "fizz\n",
      "52\n",
      "53\n",
      "fizz\n",
      "buzz\n",
      "56\n",
      "fizz\n",
      "58\n",
      "59\n",
      "fizzbuzz\n",
      "61\n",
      "62\n",
      "fizz\n",
      "64\n",
      "buzz\n",
      "fizz\n",
      "67\n",
      "68\n",
      "fizz\n",
      "buzz\n",
      "71\n",
      "fizz\n",
      "73\n",
      "74\n",
      "fizzbuzz\n",
      "76\n",
      "77\n",
      "fizz\n",
      "79\n",
      "buzz\n",
      "fizz\n",
      "82\n",
      "83\n",
      "fizz\n",
      "buzz\n",
      "86\n",
      "fizz\n",
      "88\n",
      "89\n",
      "fizzbuzz\n",
      "91\n",
      "92\n",
      "fizz\n",
      "94\n",
      "buzz\n",
      "fizz\n",
      "97\n",
      "98\n",
      "fizz\n",
      "buzz\n"
     ]
    }
   ],
   "source": [
    "#1~100정수 넣으면서 3의 배수면 fizz, 5의 배수면 buzz, 15의 배수면 \n",
    "# fizzbuzz, 나머지는 숫자 자체를 출력!\n",
    "#refactoring: 프로그램을 개선해 나가는 과정.\n",
    "\n",
    "# print(fizzbuzz=[for i in range(1,100+1) if i % 15 ==0])\n",
    "# print(fizz=[for i in range(1,100+1) if i % 3 ==0])\n",
    "# print(buzz=[for i in range(1,100+1) if i % 5 ==0])\n",
    "\n",
    "#Boolean\n",
    "    #True: 조건이 살아있으면 즉 맞으면\n",
    "    #False: 0\n",
    "#if에 다중조건을 걸어서 줄여서 코딩하면\n",
    "for i in range(1, 100+1):\n",
    "    if i % 3 ==0 or i % 5 ==0:\n",
    "            print(\"fizz\"*(i%3==0) + \"buzz\"*(i%5==0))\n",
    "    else:\n",
    "        print(i)"
   ]
  },
  {
   "cell_type": "code",
   "execution_count": 34,
   "metadata": {},
   "outputs": [
    {
     "data": {
      "text/plain": [
       "[1,\n",
       " 2,\n",
       " 'fizz',\n",
       " 4,\n",
       " 'buzz',\n",
       " 'fizz',\n",
       " 7,\n",
       " 8,\n",
       " 'fizz',\n",
       " 'buzz',\n",
       " 11,\n",
       " 'fizz',\n",
       " 13,\n",
       " 14,\n",
       " 'fizzbuzz',\n",
       " 16,\n",
       " 17,\n",
       " 'fizz',\n",
       " 19,\n",
       " 'buzz',\n",
       " 'fizz',\n",
       " 22,\n",
       " 23,\n",
       " 'fizz',\n",
       " 'buzz',\n",
       " 26,\n",
       " 'fizz',\n",
       " 28,\n",
       " 29,\n",
       " 'fizzbuzz',\n",
       " 31,\n",
       " 32,\n",
       " 'fizz',\n",
       " 34,\n",
       " 'buzz',\n",
       " 'fizz',\n",
       " 37,\n",
       " 38,\n",
       " 'fizz',\n",
       " 'buzz',\n",
       " 41,\n",
       " 'fizz',\n",
       " 43,\n",
       " 44,\n",
       " 'fizzbuzz',\n",
       " 46,\n",
       " 47,\n",
       " 'fizz',\n",
       " 49,\n",
       " 'buzz',\n",
       " 'fizz',\n",
       " 52,\n",
       " 53,\n",
       " 'fizz',\n",
       " 'buzz',\n",
       " 56,\n",
       " 'fizz',\n",
       " 58,\n",
       " 59,\n",
       " 'fizzbuzz',\n",
       " 61,\n",
       " 62,\n",
       " 'fizz',\n",
       " 64,\n",
       " 'buzz',\n",
       " 'fizz',\n",
       " 67,\n",
       " 68,\n",
       " 'fizz',\n",
       " 'buzz',\n",
       " 71,\n",
       " 'fizz',\n",
       " 73,\n",
       " 74,\n",
       " 'fizzbuzz',\n",
       " 76,\n",
       " 77,\n",
       " 'fizz',\n",
       " 79,\n",
       " 'buzz',\n",
       " 'fizz',\n",
       " 82,\n",
       " 83,\n",
       " 'fizz',\n",
       " 'buzz',\n",
       " 86,\n",
       " 'fizz',\n",
       " 88,\n",
       " 89,\n",
       " 'fizzbuzz',\n",
       " 91,\n",
       " 92,\n",
       " 'fizz',\n",
       " 94,\n",
       " 'buzz',\n",
       " 'fizz',\n",
       " 97,\n",
       " 98,\n",
       " 'fizz',\n",
       " 'buzz']"
      ]
     },
     "execution_count": 34,
     "metadata": {},
     "output_type": "execute_result"
    }
   ],
   "source": [
    "#한줄로 코딩\n",
    "one_line_fizzbuzz=[\"fizz\"*(i%3==0) + \"buzz\"*(i%5==0) or i for i in range(1, 100+1)]\n",
    "one_line_fizzbuzz"
   ]
  },
  {
   "cell_type": "code",
   "execution_count": null,
   "metadata": {
    "collapsed": true
   },
   "outputs": [],
   "source": [
    "#codingbat.com:"
   ]
  }
 ],
 "metadata": {
  "kernelspec": {
   "display_name": "Python 3",
   "language": "python",
   "name": "python3"
  },
  "language_info": {
   "codemirror_mode": {
    "name": "ipython",
    "version": 3
   },
   "file_extension": ".py",
   "mimetype": "text/x-python",
   "name": "python",
   "nbconvert_exporter": "python",
   "pygments_lexer": "ipython3",
   "version": "3.6.1"
  }
 },
 "nbformat": 4,
 "nbformat_minor": 2
}
